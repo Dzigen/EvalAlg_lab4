{
 "cells": [
  {
   "cell_type": "code",
   "execution_count": 1,
   "metadata": {},
   "outputs": [],
   "source": [
    "import os\n",
    "from typing import List\n",
    "from tqdm import tqdm\n",
    "from numba import jit\n",
    "from numba.typed import List as NumbaList\n",
    "import numpy as np\n",
    "import optuna\n",
    "import joblib\n",
    "import random\n",
    "import gc\n",
    "gc.enable()\n",
    "\n",
    "from src.utils import TravelerMap\n",
    "from src.fitness import TravelerFitness\n",
    "from src.generator import TravelGenerator\n",
    "from src.selector import TravelerSelector\n",
    "from src.mutation import TravelMutation\n",
    "from src.crossover import TravelerCrossover\n",
    "\n",
    "DATA_DIR = './data'\n",
    "MAP_PATHS = os.listdir(DATA_DIR)"
   ]
  },
  {
   "cell_type": "code",
   "execution_count": 2,
   "metadata": {},
   "outputs": [],
   "source": [
    "#@jit(nopython=True)\n",
    "def evaluate(distances_matrix: List[List[float]], nodes_amount: int, \n",
    "             pop_size: int, iters: int, trials: int, \n",
    "             cross_pairs: int, mut_mode: int, mut_opt_prob: float, \n",
    "             mut_cand_percent: float, ff_age_limit: int = 500) -> List[float]:\n",
    "\n",
    "    best_fitnesses, best_iters, best_solutions = [], [], []\n",
    "    for _ in range(trials):\n",
    "        # Инициализация операторов эволюционного процесса\n",
    "        generator = TravelGenerator(nodes_amount)\n",
    "        ff = TravelerFitness(generator.dim, distances_matrix)\n",
    "        selection_oprt = TravelerSelector(pop_size, generator.dim)        \n",
    "        crossover_oprt = TravelerCrossover(generator.dim, cross_pairs)\n",
    "        mutate_oprt = TravelMutation(generator.dim, mut_mode, mut_opt_prob, \n",
    "                                     mut_cand_percent)\n",
    "        \n",
    "        #print(\"Инициализация популяции\")\n",
    "        base_pop = generator.get_population(pop_size)\n",
    "\n",
    "        #print(\"Старт эволюционного процесса...\")\n",
    "        cur_fitness, flag = [], False\n",
    "        process = tqdm(range(iters))\n",
    "        for iter_idx in process:\n",
    "\n",
    "            #          \n",
    "            if ff.result_age > ff_age_limit:\n",
    "                flag = True\n",
    "                break\n",
    "    \n",
    "            #\n",
    "            #print(f\"Мутация {base_pop.shape} {base_pop.dtype} кандидатов...\")\n",
    "            old_pop = mutate_oprt.apply(base_pop)\n",
    "            old_fit = np.array([ff.calculate_fitness(sol) for sol in old_pop], dtype=np.int32)\n",
    "\n",
    "            #print(f\"Кроссовер {old_pop.shape} {old_pop.dtype} кандидатов...\")\n",
    "            new_pop = crossover_oprt.mate(old_pop)\n",
    "            new_fit = np.array([ff.calculate_fitness(sol) for sol in new_pop], dtype=np.int32)\n",
    "\n",
    "            union_pop = np.concatenate((old_pop, new_pop))\n",
    "            union_fit = np.concatenate((old_fit, new_fit))\n",
    "                \n",
    "            #print(f\"Селекция {union_pop.shape} {union_pop.dtype} кандидатов...\")\n",
    "            base_pop = selection_oprt.filter_population(union_pop, union_fit)\n",
    "\n",
    "            #cur_fitness.append(ff.best_result)\n",
    "            process.set_postfix({'ff': ff.best_result})\n",
    "            ff.result_age += 1\n",
    "\n",
    "        best_fitnesses.append(ff.best_result)\n",
    "        best_iters.append( iter_idx+1-ff_age_limit if flag else iter_idx+1 )\n",
    "        best_solutions.append(np.copy(ff.best_solution))\n",
    "\n",
    "        #\n",
    "        del ff\n",
    "        del selection_oprt\n",
    "        del crossover_oprt\n",
    "        del mutate_oprt\n",
    "        del generator\n",
    "\n",
    "        del base_pop\n",
    "        del union_pop\n",
    "        del union_fit\n",
    "        del new_pop\n",
    "        del new_fit\n",
    "        del old_pop\n",
    "        del old_fit\n",
    "\n",
    "        gc.collect()\n",
    "     \n",
    "    return best_fitnesses, best_iters, best_solutions"
   ]
  },
  {
   "cell_type": "code",
   "execution_count": 4,
   "metadata": {},
   "outputs": [],
   "source": [
    "def objective(trial):\n",
    "    global MAP_IDX\n",
    "    global EVALALG_ITERATIONS\n",
    "    global EVALALG_TRIALS\n",
    "    global POPULATION_SIZE\n",
    "    \n",
    "    gc.collect()\n",
    "\n",
    "    map_obj = TravelerMap()\n",
    "    map_obj.load_map(f\"{DATA_DIR}/{MAP_PATHS[MAP_IDX]}\")\n",
    "\n",
    "    cross_pairs = trial.suggest_int('cross_pairs', 160, 240, step=40)\n",
    "    mut_mode = trial.suggest_categorical('mut_mode', [0, 1])\n",
    "    mut_opt_prob = trial.suggest_float(\"mut_opt_prob\", 0, 1, step=0.2)\n",
    "    mut_cand_percent = trial.suggest_float(\"mut_opt_percent\", 0.6, 1.0, step=0.2)\n",
    "\n",
    "    #\n",
    "    best_fitnesses, best_iters, _ = evaluate(map_obj.distances, map_obj.nodes_amount, POPULATION_SIZE, \n",
    "                                             EVALALG_ITERATIONS, EVALALG_TRIALS, cross_pairs, \n",
    "                                             mut_mode, mut_opt_prob, mut_cand_percent)\n",
    "\n",
    "    mean_fitness = np.mean(best_fitnesses)\n",
    "    #mean_iters = np.mean(best_iters)\n",
    "\n",
    "    return mean_fitness"
   ]
  },
  {
   "cell_type": "code",
   "execution_count": 5,
   "metadata": {},
   "outputs": [
    {
     "name": "stderr",
     "output_type": "stream",
     "text": [
      "[I 2024-05-25 05:15:54,790] A new study created in memory with name: no-name-c8400062-2d8c-4b1c-8f9e-442509eefea0\n"
     ]
    },
    {
     "name": "stdout",
     "output_type": "stream",
     "text": [
      "0 2000 3 pma343.tsp\n"
     ]
    },
    {
     "data": {
      "application/vnd.jupyter.widget-view+json": {
       "model_id": "c252d0e9ff34459d83b43a9fb3dba5f9",
       "version_major": 2,
       "version_minor": 0
      },
      "text/plain": [
       "  0%|          | 0/20 [00:00<?, ?it/s]"
      ]
     },
     "metadata": {},
     "output_type": "display_data"
    },
    {
     "name": "stdout",
     "output_type": "stream",
     "text": [
      "[I 2024-05-25 05:19:27,525] Trial 0 finished with value: 2273.793701171875 and parameters: {'cross_pairs': 160, 'mut_mode': 0, 'mut_opt_prob': 0.4, 'mut_opt_percent': 0.8}. Best is trial 0 with value: 2273.793701171875.\n",
      "[I 2024-05-25 05:23:42,846] Trial 1 finished with value: 1901.6880289713542 and parameters: {'cross_pairs': 200, 'mut_mode': 0, 'mut_opt_prob': 0.0, 'mut_opt_percent': 1.0}. Best is trial 1 with value: 1901.6880289713542.\n",
      "[I 2024-05-25 05:28:50,612] Trial 2 finished with value: 2102.710693359375 and parameters: {'cross_pairs': 240, 'mut_mode': 0, 'mut_opt_prob': 0.6000000000000001, 'mut_opt_percent': 1.0}. Best is trial 1 with value: 1901.6880289713542.\n",
      "[I 2024-05-25 05:31:39,190] Trial 3 finished with value: 11064.2158203125 and parameters: {'cross_pairs': 160, 'mut_mode': 1, 'mut_opt_prob': 0.2, 'mut_opt_percent': 0.6}. Best is trial 1 with value: 1901.6880289713542.\n",
      "[I 2024-05-25 05:34:21,678] Trial 4 finished with value: 14862.788736979166 and parameters: {'cross_pairs': 240, 'mut_mode': 1, 'mut_opt_prob': 1.0, 'mut_opt_percent': 0.8}. Best is trial 1 with value: 1901.6880289713542.\n",
      "[I 2024-05-25 05:37:24,399] Trial 5 finished with value: 8277.439127604166 and parameters: {'cross_pairs': 160, 'mut_mode': 1, 'mut_opt_prob': 0.0, 'mut_opt_percent': 0.8}. Best is trial 1 with value: 1901.6880289713542.\n",
      "[I 2024-05-25 05:39:55,248] Trial 6 finished with value: 13054.835286458334 and parameters: {'cross_pairs': 200, 'mut_mode': 1, 'mut_opt_prob': 0.6000000000000001, 'mut_opt_percent': 0.8}. Best is trial 1 with value: 1901.6880289713542.\n",
      "[I 2024-05-25 05:44:34,620] Trial 7 finished with value: 7464.3759765625 and parameters: {'cross_pairs': 240, 'mut_mode': 1, 'mut_opt_prob': 0.2, 'mut_opt_percent': 0.6}. Best is trial 1 with value: 1901.6880289713542.\n",
      "[I 2024-05-25 05:48:02,807] Trial 8 finished with value: 2023.8647054036458 and parameters: {'cross_pairs': 160, 'mut_mode': 0, 'mut_opt_prob': 0.2, 'mut_opt_percent': 1.0}. Best is trial 1 with value: 1901.6880289713542.\n",
      "[I 2024-05-25 05:52:03,130] Trial 9 finished with value: 4430.507486979167 and parameters: {'cross_pairs': 200, 'mut_mode': 1, 'mut_opt_prob': 0.0, 'mut_opt_percent': 1.0}. Best is trial 1 with value: 1901.6880289713542.\n",
      "[I 2024-05-25 05:56:24,579] Trial 10 finished with value: 6163.31640625 and parameters: {'cross_pairs': 200, 'mut_mode': 0, 'mut_opt_prob': 1.0, 'mut_opt_percent': 1.0}. Best is trial 1 with value: 1901.6880289713542.\n",
      "[I 2024-05-25 05:59:52,570] Trial 11 finished with value: 2037.4816080729167 and parameters: {'cross_pairs': 160, 'mut_mode': 0, 'mut_opt_prob': 0.2, 'mut_opt_percent': 1.0}. Best is trial 1 with value: 1901.6880289713542.\n",
      "[I 2024-05-25 06:04:08,928] Trial 12 finished with value: 1896.1279703776042 and parameters: {'cross_pairs': 200, 'mut_mode': 0, 'mut_opt_prob': 0.0, 'mut_opt_percent': 1.0}. Best is trial 12 with value: 1896.1279703776042.\n",
      "[I 2024-05-25 06:08:25,029] Trial 13 finished with value: 1884.9423421223958 and parameters: {'cross_pairs': 200, 'mut_mode': 0, 'mut_opt_prob': 0.0, 'mut_opt_percent': 1.0}. Best is trial 13 with value: 1884.9423421223958.\n",
      "[I 2024-05-25 06:12:42,888] Trial 14 finished with value: 2012.1930338541667 and parameters: {'cross_pairs': 200, 'mut_mode': 0, 'mut_opt_prob': 0.4, 'mut_opt_percent': 1.0}. Best is trial 13 with value: 1884.9423421223958.\n",
      "[I 2024-05-25 06:16:59,104] Trial 15 finished with value: 2810.9686686197915 and parameters: {'cross_pairs': 200, 'mut_mode': 0, 'mut_opt_prob': 0.8, 'mut_opt_percent': 0.8}. Best is trial 13 with value: 1884.9423421223958.\n",
      "[I 2024-05-25 06:22:04,017] Trial 16 finished with value: 1886.5006510416667 and parameters: {'cross_pairs': 240, 'mut_mode': 0, 'mut_opt_prob': 0.0, 'mut_opt_percent': 1.0}. Best is trial 13 with value: 1884.9423421223958.\n",
      "[I 2024-05-25 06:27:03,945] Trial 17 finished with value: 2238.92333984375 and parameters: {'cross_pairs': 240, 'mut_mode': 0, 'mut_opt_prob': 0.4, 'mut_opt_percent': 0.6}. Best is trial 13 with value: 1884.9423421223958.\n",
      "[I 2024-05-25 06:32:07,330] Trial 18 finished with value: 1963.6616617838542 and parameters: {'cross_pairs': 240, 'mut_mode': 0, 'mut_opt_prob': 0.0, 'mut_opt_percent': 0.8}. Best is trial 13 with value: 1884.9423421223958.\n"
     ]
    },
    {
     "name": "stderr",
     "output_type": "stream",
     "text": [
      "[I 2024-05-25 06:37:13,311] A new study created in memory with name: no-name-45b83f63-6bc2-4f1b-abba-30e75942acd9\n"
     ]
    },
    {
     "name": "stdout",
     "output_type": "stream",
     "text": [
      "[I 2024-05-25 06:37:13,252] Trial 19 finished with value: 1931.9433186848958 and parameters: {'cross_pairs': 240, 'mut_mode': 0, 'mut_opt_prob': 0.2, 'mut_opt_percent': 1.0}. Best is trial 13 with value: 1884.9423421223958.\n",
      "1 2000 3 xqg237.tsp\n"
     ]
    },
    {
     "data": {
      "application/vnd.jupyter.widget-view+json": {
       "model_id": "79466ae227324fd2aba2d3b94c45abca",
       "version_major": 2,
       "version_minor": 0
      },
      "text/plain": [
       "  0%|          | 0/20 [00:00<?, ?it/s]"
      ]
     },
     "metadata": {},
     "output_type": "display_data"
    },
    {
     "name": "stdout",
     "output_type": "stream",
     "text": [
      "[I 2024-05-25 06:38:17,962] Trial 0 finished with value: 5924.100911458333 and parameters: {'cross_pairs': 160, 'mut_mode': 1, 'mut_opt_prob': 0.6000000000000001, 'mut_opt_percent': 1.0}. Best is trial 0 with value: 5924.100911458333.\n",
      "[I 2024-05-25 06:40:33,815] Trial 1 finished with value: 1252.134033203125 and parameters: {'cross_pairs': 200, 'mut_mode': 0, 'mut_opt_prob': 0.2, 'mut_opt_percent': 0.6}. Best is trial 1 with value: 1252.134033203125.\n",
      "[I 2024-05-25 06:42:32,430] Trial 2 finished with value: 4303.054117838542 and parameters: {'cross_pairs': 240, 'mut_mode': 1, 'mut_opt_prob': 0.4, 'mut_opt_percent': 0.6}. Best is trial 1 with value: 1252.134033203125.\n",
      "[I 2024-05-25 06:43:52,269] Trial 3 finished with value: 6267.443684895833 and parameters: {'cross_pairs': 160, 'mut_mode': 1, 'mut_opt_prob': 1.0, 'mut_opt_percent': 0.6}. Best is trial 1 with value: 1252.134033203125.\n",
      "[I 2024-05-25 06:45:38,783] Trial 4 finished with value: 4087.683837890625 and parameters: {'cross_pairs': 200, 'mut_mode': 1, 'mut_opt_prob': 0.2, 'mut_opt_percent': 0.6}. Best is trial 1 with value: 1252.134033203125.\n",
      "[I 2024-05-25 06:47:57,955] Trial 5 finished with value: 1316.940673828125 and parameters: {'cross_pairs': 200, 'mut_mode': 0, 'mut_opt_prob': 0.6000000000000001, 'mut_opt_percent': 0.8}. Best is trial 1 with value: 1252.134033203125.\n",
      "[I 2024-05-25 06:49:14,637] Trial 6 finished with value: 6140.366048177083 and parameters: {'cross_pairs': 160, 'mut_mode': 1, 'mut_opt_prob': 0.8, 'mut_opt_percent': 0.8}. Best is trial 1 with value: 1252.134033203125.\n",
      "[I 2024-05-25 06:51:08,087] Trial 7 finished with value: 1312.6900634765625 and parameters: {'cross_pairs': 160, 'mut_mode': 0, 'mut_opt_prob': 0.6000000000000001, 'mut_opt_percent': 0.8}. Best is trial 1 with value: 1252.134033203125.\n",
      "[I 2024-05-25 06:52:50,848] Trial 8 finished with value: 5483.8916015625 and parameters: {'cross_pairs': 240, 'mut_mode': 1, 'mut_opt_prob': 0.8, 'mut_opt_percent': 0.8}. Best is trial 1 with value: 1252.134033203125.\n",
      "[I 2024-05-25 06:54:40,932] Trial 9 finished with value: 1283.1600341796875 and parameters: {'cross_pairs': 160, 'mut_mode': 0, 'mut_opt_prob': 0.0, 'mut_opt_percent': 0.6}. Best is trial 1 with value: 1252.134033203125.\n",
      "[I 2024-05-25 06:57:01,713] Trial 10 finished with value: 1191.1320393880208 and parameters: {'cross_pairs': 200, 'mut_mode': 0, 'mut_opt_prob': 0.0, 'mut_opt_percent': 1.0}. Best is trial 10 with value: 1191.1320393880208.\n",
      "[I 2024-05-25 06:59:22,672] Trial 11 finished with value: 1182.3970133463542 and parameters: {'cross_pairs': 200, 'mut_mode': 0, 'mut_opt_prob': 0.0, 'mut_opt_percent': 1.0}. Best is trial 11 with value: 1182.3970133463542.\n",
      "[I 2024-05-25 07:01:43,565] Trial 12 finished with value: 1208.135009765625 and parameters: {'cross_pairs': 200, 'mut_mode': 0, 'mut_opt_prob': 0.0, 'mut_opt_percent': 1.0}. Best is trial 11 with value: 1182.3970133463542.\n",
      "[I 2024-05-25 07:04:32,083] Trial 13 finished with value: 1214.6287027994792 and parameters: {'cross_pairs': 240, 'mut_mode': 0, 'mut_opt_prob': 0.2, 'mut_opt_percent': 1.0}. Best is trial 11 with value: 1182.3970133463542.\n",
      "[I 2024-05-25 07:06:52,839] Trial 14 finished with value: 1192.6383463541667 and parameters: {'cross_pairs': 200, 'mut_mode': 0, 'mut_opt_prob': 0.0, 'mut_opt_percent': 1.0}. Best is trial 11 with value: 1182.3970133463542.\n",
      "[I 2024-05-25 07:09:14,324] Trial 15 finished with value: 1209.7723388671875 and parameters: {'cross_pairs': 200, 'mut_mode': 0, 'mut_opt_prob': 0.4, 'mut_opt_percent': 1.0}. Best is trial 11 with value: 1182.3970133463542.\n",
      "[I 2024-05-25 07:12:01,755] Trial 16 finished with value: 1197.1736653645833 and parameters: {'cross_pairs': 240, 'mut_mode': 0, 'mut_opt_prob': 0.2, 'mut_opt_percent': 1.0}. Best is trial 11 with value: 1182.3970133463542.\n",
      "[I 2024-05-25 07:14:22,566] Trial 17 finished with value: 1187.7793375651042 and parameters: {'cross_pairs': 200, 'mut_mode': 0, 'mut_opt_prob': 0.0, 'mut_opt_percent': 1.0}. Best is trial 11 with value: 1182.3970133463542.\n",
      "[I 2024-05-25 07:16:41,385] Trial 18 finished with value: 1244.5369873046875 and parameters: {'cross_pairs': 200, 'mut_mode': 0, 'mut_opt_prob': 0.4, 'mut_opt_percent': 0.8}. Best is trial 11 with value: 1182.3970133463542.\n"
     ]
    },
    {
     "name": "stderr",
     "output_type": "stream",
     "text": [
      "[I 2024-05-25 07:19:28,515] A new study created in memory with name: no-name-09c3c5db-d453-4c92-a3fc-bf85575e01ea\n"
     ]
    },
    {
     "name": "stdout",
     "output_type": "stream",
     "text": [
      "[I 2024-05-25 07:19:28,455] Trial 19 finished with value: 1176.03369140625 and parameters: {'cross_pairs': 240, 'mut_mode': 0, 'mut_opt_prob': 0.0, 'mut_opt_percent': 1.0}. Best is trial 19 with value: 1176.03369140625.\n",
      "2 2000 3 xqf131.tsp\n"
     ]
    },
    {
     "data": {
      "application/vnd.jupyter.widget-view+json": {
       "model_id": "cffde819f679404f98b3fdbe03d89937",
       "version_major": 2,
       "version_minor": 0
      },
      "text/plain": [
       "  0%|          | 0/20 [00:00<?, ?it/s]"
      ]
     },
     "metadata": {},
     "output_type": "display_data"
    },
    {
     "name": "stdout",
     "output_type": "stream",
     "text": [
      "[I 2024-05-25 07:20:00,992] Trial 0 finished with value: 1692.948974609375 and parameters: {'cross_pairs': 160, 'mut_mode': 1, 'mut_opt_prob': 0.6000000000000001, 'mut_opt_percent': 0.6}. Best is trial 0 with value: 1692.948974609375.\n",
      "[I 2024-05-25 07:20:52,039] Trial 1 finished with value: 1084.2966715494792 and parameters: {'cross_pairs': 160, 'mut_mode': 0, 'mut_opt_prob': 1.0, 'mut_opt_percent': 1.0}. Best is trial 1 with value: 1084.2966715494792.\n",
      "[I 2024-05-25 07:21:38,955] Trial 2 finished with value: 1599.9923502604167 and parameters: {'cross_pairs': 200, 'mut_mode': 1, 'mut_opt_prob': 0.8, 'mut_opt_percent': 0.6}. Best is trial 1 with value: 1084.2966715494792.\n",
      "[I 2024-05-25 07:22:42,944] Trial 3 finished with value: 647.1796671549479 and parameters: {'cross_pairs': 240, 'mut_mode': 1, 'mut_opt_prob': 0.0, 'mut_opt_percent': 0.8}. Best is trial 3 with value: 647.1796671549479.\n",
      "[I 2024-05-25 07:23:36,577] Trial 4 finished with value: 675.25 and parameters: {'cross_pairs': 200, 'mut_mode': 1, 'mut_opt_prob': 0.0, 'mut_opt_percent': 0.6}. Best is trial 3 with value: 647.1796671549479.\n",
      "[I 2024-05-25 07:24:22,838] Trial 5 finished with value: 1772.9040120442708 and parameters: {'cross_pairs': 200, 'mut_mode': 1, 'mut_opt_prob': 1.0, 'mut_opt_percent': 1.0}. Best is trial 3 with value: 647.1796671549479.\n",
      "[I 2024-05-25 07:25:09,444] Trial 6 finished with value: 629.4733276367188 and parameters: {'cross_pairs': 160, 'mut_mode': 0, 'mut_opt_prob': 0.2, 'mut_opt_percent': 0.6}. Best is trial 6 with value: 629.4733276367188.\n",
      "[I 2024-05-25 07:26:03,155] Trial 7 finished with value: 664.3386637369791 and parameters: {'cross_pairs': 200, 'mut_mode': 1, 'mut_opt_prob': 0.0, 'mut_opt_percent': 1.0}. Best is trial 6 with value: 629.4733276367188.\n",
      "[I 2024-05-25 07:27:11,703] Trial 8 finished with value: 1074.09033203125 and parameters: {'cross_pairs': 240, 'mut_mode': 0, 'mut_opt_prob': 1.0, 'mut_opt_percent': 0.6}. Best is trial 6 with value: 629.4733276367188.\n",
      "[I 2024-05-25 07:27:52,444] Trial 9 finished with value: 1402.1370035807292 and parameters: {'cross_pairs': 160, 'mut_mode': 1, 'mut_opt_prob': 0.4, 'mut_opt_percent': 0.6}. Best is trial 6 with value: 629.4733276367188.\n",
      "[I 2024-05-25 07:28:41,738] Trial 10 finished with value: 624.8603515625 and parameters: {'cross_pairs': 160, 'mut_mode': 0, 'mut_opt_prob': 0.4, 'mut_opt_percent': 0.8}. Best is trial 10 with value: 624.8603515625.\n",
      "[I 2024-05-25 07:29:31,129] Trial 11 finished with value: 629.8433430989584 and parameters: {'cross_pairs': 160, 'mut_mode': 0, 'mut_opt_prob': 0.4, 'mut_opt_percent': 0.8}. Best is trial 10 with value: 624.8603515625.\n",
      "[I 2024-05-25 07:30:16,944] Trial 12 finished with value: 626.9006551106771 and parameters: {'cross_pairs': 160, 'mut_mode': 0, 'mut_opt_prob': 0.2, 'mut_opt_percent': 0.8}. Best is trial 10 with value: 624.8603515625.\n",
      "[I 2024-05-25 07:31:06,108] Trial 13 finished with value: 621.0106608072916 and parameters: {'cross_pairs': 160, 'mut_mode': 0, 'mut_opt_prob': 0.2, 'mut_opt_percent': 0.8}. Best is trial 13 with value: 621.0106608072916.\n",
      "[I 2024-05-25 07:31:52,719] Trial 14 finished with value: 640.1466674804688 and parameters: {'cross_pairs': 160, 'mut_mode': 0, 'mut_opt_prob': 0.6000000000000001, 'mut_opt_percent': 0.8}. Best is trial 13 with value: 621.0106608072916.\n",
      "[I 2024-05-25 07:32:49,814] Trial 15 finished with value: 623.6740112304688 and parameters: {'cross_pairs': 200, 'mut_mode': 0, 'mut_opt_prob': 0.2, 'mut_opt_percent': 0.8}. Best is trial 13 with value: 621.0106608072916.\n",
      "[I 2024-05-25 07:33:51,543] Trial 16 finished with value: 624.4983317057291 and parameters: {'cross_pairs': 240, 'mut_mode': 0, 'mut_opt_prob': 0.2, 'mut_opt_percent': 0.8}. Best is trial 13 with value: 621.0106608072916.\n",
      "[I 2024-05-25 07:34:41,056] Trial 17 finished with value: 631.4320068359375 and parameters: {'cross_pairs': 200, 'mut_mode': 0, 'mut_opt_prob': 0.2, 'mut_opt_percent': 1.0}. Best is trial 13 with value: 621.0106608072916.\n",
      "[I 2024-05-25 07:35:48,926] Trial 18 finished with value: 631.7073160807291 and parameters: {'cross_pairs': 240, 'mut_mode': 0, 'mut_opt_prob': 0.2, 'mut_opt_percent': 0.8}. Best is trial 13 with value: 621.0106608072916.\n",
      "[I 2024-05-25 07:36:46,151] Trial 19 finished with value: 631.1063232421875 and parameters: {'cross_pairs': 200, 'mut_mode': 0, 'mut_opt_prob': 0.6000000000000001, 'mut_opt_percent': 1.0}. Best is trial 13 with value: 621.0106608072916.\n"
     ]
    }
   ],
   "source": [
    "for i, map_file in enumerate(MAP_PATHS):\n",
    "\n",
    "    MAP_IDX = i\n",
    "    OPTUNA_TRIALS = 20\n",
    "    EVALALG_TRIALS = 3\n",
    "    EVALALG_ITERATIONS = 2000\n",
    "    POPULATION_SIZE = 200\n",
    "\n",
    "    print(MAP_IDX, EVALALG_ITERATIONS, EVALALG_TRIALS, map_file)\n",
    "\n",
    "    study = optuna.create_study(directions=['minimize'])\n",
    "    study.optimize(objective, n_trials=OPTUNA_TRIALS, show_progress_bar=True, gc_after_trial=True)\n",
    "\n",
    "    joblib.dump(study, f\"./logs/{map_file.split('.')[0]}_optuna_study.pkl\")"
   ]
  },
  {
   "cell_type": "code",
   "execution_count": 16,
   "metadata": {},
   "outputs": [],
   "source": []
  },
  {
   "cell_type": "code",
   "execution_count": 12,
   "metadata": {},
   "outputs": [
    {
     "name": "stderr",
     "output_type": "stream",
     "text": [
      " 42%|████▏     | 1686/4000 [00:16<00:22, 103.97it/s, ff=631]   \n",
      " 40%|████      | 1604/4000 [00:15<00:23, 103.85it/s, ff=648]   \n",
      " 39%|███▊      | 1543/4000 [00:15<00:23, 102.85it/s, ff=638]   \n",
      " 49%|████▉     | 1975/4000 [00:19<00:19, 103.76it/s, ff=610]   \n",
      "100%|██████████| 4000/4000 [00:38<00:00, 103.86it/s, ff=628]   \n",
      "100%|██████████| 4000/4000 [00:38<00:00, 103.04it/s, ff=642]   \n",
      " 58%|█████▊    | 2312/4000 [00:22<00:16, 103.64it/s, ff=657]   \n",
      "100%|██████████| 4000/4000 [00:38<00:00, 103.12it/s, ff=617]   \n",
      " 52%|█████▏    | 2066/4000 [00:19<00:18, 103.72it/s, ff=643]   \n",
      " 62%|██████▏   | 2461/4000 [00:23<00:14, 103.29it/s, ff=611]   \n"
     ]
    },
    {
     "name": "stdout",
     "output_type": "stream",
     "text": [
      "632.4722961425781 2215.4\n"
     ]
    }
   ],
   "source": [
    "MAP_IDX = 2\n",
    "study = joblib.load(f\"./logs/{MAP_PATHS[MAP_IDX].split('.')[0]}_optuna_study.pkl\")\n",
    "PARAMS = study.best_trials[0].params\n",
    "\n",
    "map_obj = TravelerMap()\n",
    "map_obj.load_map(f\"{DATA_DIR}/{MAP_PATHS[MAP_IDX]}\")\n",
    "\n",
    "best_fitnesses, best_iters, best_solutions = evaluate(map_obj.distances, map_obj.nodes_amount, \n",
    "                                                      200, 4000, 10, PARAMS['cross_pairs'], \n",
    "                                                      PARAMS['mut_mode'], PARAMS['mut_opt_prob'], \n",
    "                                                      PARAMS['mut_opt_percent'])\n",
    "mean_fitness = np.mean(best_fitnesses)\n",
    "mean_iters = np.mean(best_iters)\n",
    "print(mean_fitness, mean_iters)\n",
    "#map_obj.plot_solution(best_solutions[0])"
   ]
  },
  {
   "cell_type": "code",
   "execution_count": 9,
   "metadata": {},
   "outputs": [],
   "source": [
    "mean_iters = np.mean(best_iters)"
   ]
  },
  {
   "cell_type": "code",
   "execution_count": 10,
   "metadata": {},
   "outputs": [
    {
     "data": {
      "text/plain": [
       "4000.0"
      ]
     },
     "execution_count": 10,
     "metadata": {},
     "output_type": "execute_result"
    }
   ],
   "source": [
    "mean_iters"
   ]
  }
 ],
 "metadata": {
  "kernelspec": {
   "display_name": "base",
   "language": "python",
   "name": "python3"
  },
  "language_info": {
   "codemirror_mode": {
    "name": "ipython",
    "version": 3
   },
   "file_extension": ".py",
   "mimetype": "text/x-python",
   "name": "python",
   "nbconvert_exporter": "python",
   "pygments_lexer": "ipython3",
   "version": "3.11.4"
  }
 },
 "nbformat": 4,
 "nbformat_minor": 2
}
